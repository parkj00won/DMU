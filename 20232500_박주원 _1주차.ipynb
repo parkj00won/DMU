{
 "cells": [
  {
   "cell_type": "code",
   "execution_count": 7,
   "id": "4a9900a1-e0fe-475b-a859-c509aecf83ef",
   "metadata": {},
   "outputs": [
    {
     "data": {
      "text/plain": [
       "'3.12.4 | packaged by Anaconda, Inc. | (main, Jun 18 2024, 15:03:56) [MSC v.1929 64 bit (AMD64)]'"
      ]
     },
     "execution_count": 7,
     "metadata": {},
     "output_type": "execute_result"
    }
   ],
   "source": [
    "import sys\n",
    "sys.version"
   ]
  },
  {
   "cell_type": "code",
   "execution_count": 12,
   "id": "f4b7f5bc-1e0b-4f25-90e0-570de187f1bf",
   "metadata": {},
   "outputs": [
    {
     "data": {
      "text/plain": [
       "['C:\\\\Users\\\\109-1\\\\anaconda3',\n",
       " 'C:\\\\Users\\\\109-1\\\\anaconda3\\\\Lib\\\\site-packages']"
      ]
     },
     "execution_count": 12,
     "metadata": {},
     "output_type": "execute_result"
    }
   ],
   "source": [
    "import site\n",
    "site.getsitepackages()"
   ]
  },
  {
   "cell_type": "code",
   "execution_count": 16,
   "id": "94f6699a-ce70-4bb6-8ec5-4330c5597917",
   "metadata": {},
   "outputs": [
    {
     "data": {
      "text/plain": [
       "(int, float)"
      ]
     },
     "execution_count": 16,
     "metadata": {},
     "output_type": "execute_result"
    }
   ],
   "source": [
    "type(1), type(3.5)"
   ]
  },
  {
   "cell_type": "code",
   "execution_count": 18,
   "id": "3e32f94c-2042-4d99-b31c-c450c47539d4",
   "metadata": {},
   "outputs": [
    {
     "data": {
      "text/plain": [
       "(str, bool)"
      ]
     },
     "execution_count": 18,
     "metadata": {},
     "output_type": "execute_result"
    }
   ],
   "source": [
    "type('py'),type(True)"
   ]
  },
  {
   "cell_type": "code",
   "execution_count": 20,
   "id": "39c3e683-5711-494c-9b5b-059db7fe1d3b",
   "metadata": {},
   "outputs": [
    {
     "data": {
      "text/plain": [
       "(list, tuple)"
      ]
     },
     "execution_count": 20,
     "metadata": {},
     "output_type": "execute_result"
    }
   ],
   "source": [
    "type([]), type((1, )) "
   ]
  },
  {
   "cell_type": "code",
   "execution_count": 22,
   "id": "aad5fdc4-7828-4cbf-a96d-518f0170e71f",
   "metadata": {},
   "outputs": [
    {
     "data": {
      "text/plain": [
       "(dict, set)"
      ]
     },
     "execution_count": 22,
     "metadata": {},
     "output_type": "execute_result"
    }
   ],
   "source": [
    "type({1:1,2:4}),type({1,2,3})"
   ]
  },
  {
   "cell_type": "code",
   "execution_count": 24,
   "id": "09746b02-f571-4d0e-91e6-579a768e72e9",
   "metadata": {},
   "outputs": [
    {
     "data": {
      "text/plain": [
       "(7, 4, 15, 1.5, 1)"
      ]
     },
     "execution_count": 24,
     "metadata": {},
     "output_type": "execute_result"
    }
   ],
   "source": [
    "3 + 4, 10 - 6, 3 * 5, 3 / 2, 3 // 2"
   ]
  },
  {
   "cell_type": "code",
   "execution_count": 26,
   "id": "10e71541-8553-4c86-86dd-004cd34ae2b0",
   "metadata": {},
   "outputs": [
    {
     "data": {
      "text/plain": [
       "(9, 1)"
      ]
     },
     "execution_count": 26,
     "metadata": {},
     "output_type": "execute_result"
    }
   ],
   "source": [
    "3 ** 2, 10 % 3"
   ]
  },
  {
   "cell_type": "code",
   "execution_count": 28,
   "id": "5fabf0f4-322e-4a70-91a6-de027b383d92",
   "metadata": {},
   "outputs": [
    {
     "data": {
      "text/plain": [
       "'python'"
      ]
     },
     "execution_count": 28,
     "metadata": {},
     "output_type": "execute_result"
    }
   ],
   "source": [
    "'py' + 'thon'"
   ]
  },
  {
   "cell_type": "code",
   "execution_count": 32,
   "id": "d2094bb0-d75b-48bd-95f1-1e3959c4cb6f",
   "metadata": {},
   "outputs": [
    {
     "data": {
      "text/plain": [
       "'pypypy'"
      ]
     },
     "execution_count": 32,
     "metadata": {},
     "output_type": "execute_result"
    }
   ],
   "source": [
    "'py' * 3"
   ]
  },
  {
   "cell_type": "code",
   "execution_count": 34,
   "id": "f9c79b92-70b8-439a-9be7-f77b57485393",
   "metadata": {},
   "outputs": [
    {
     "data": {
      "text/plain": [
       "(3, 1)"
      ]
     },
     "execution_count": 34,
     "metadata": {},
     "output_type": "execute_result"
    }
   ],
   "source": [
    "divmod(10,3)"
   ]
  },
  {
   "cell_type": "code",
   "execution_count": 40,
   "id": "3d10ed03-0640-4a90-9b4f-b0f1b075c4b7",
   "metadata": {},
   "outputs": [
    {
     "data": {
      "text/plain": [
       "33.56"
      ]
     },
     "execution_count": 40,
     "metadata": {},
     "output_type": "execute_result"
    }
   ],
   "source": [
    "int('30') + float('3.56')"
   ]
  },
  {
   "cell_type": "code",
   "execution_count": 42,
   "id": "cfe79d85-b60f-42a1-a518-40cba49c4785",
   "metadata": {},
   "outputs": [
    {
     "data": {
      "text/plain": [
       "(10, False)"
      ]
     },
     "execution_count": 42,
     "metadata": {},
     "output_type": "execute_result"
    }
   ],
   "source": [
    "abs(-10), bool(0)"
   ]
  },
  {
   "cell_type": "code",
   "execution_count": 44,
   "id": "ba8370bf-663d-4619-b550-1a0b481559cf",
   "metadata": {},
   "outputs": [
    {
     "data": {
      "text/plain": [
       "('Z', 97, 65)"
      ]
     },
     "execution_count": 44,
     "metadata": {},
     "output_type": "execute_result"
    }
   ],
   "source": [
    "chr(90),ord('a'), ord('A')"
   ]
  },
  {
   "cell_type": "code",
   "execution_count": 46,
   "id": "8db97124-bdcb-411f-8496-5fb20c609d82",
   "metadata": {},
   "outputs": [
    {
     "data": {
      "text/plain": [
       "23"
      ]
     },
     "execution_count": 46,
     "metadata": {},
     "output_type": "execute_result"
    }
   ],
   "source": [
    "eval('3 + 4 * 5')"
   ]
  },
  {
   "cell_type": "code",
   "execution_count": 55,
   "id": "abbd028a-803b-43bf-8f31-f6957c2db4ca",
   "metadata": {},
   "outputs": [
    {
     "data": {
      "text/plain": [
       "140708034200160"
      ]
     },
     "execution_count": 55,
     "metadata": {},
     "output_type": "execute_result"
    }
   ],
   "source": [
    "s = 'py'\n",
    "id(s)"
   ]
  },
  {
   "cell_type": "code",
   "execution_count": 65,
   "id": "a08b6b1f-d01e-4265-bc4b-43c322e5a6d0",
   "metadata": {},
   "outputs": [
    {
     "name": "stdin",
     "output_type": "stream",
     "text": [
      "나이는?  20\n"
     ]
    },
    {
     "data": {
      "text/plain": [
       "20"
      ]
     },
     "execution_count": 65,
     "metadata": {},
     "output_type": "execute_result"
    }
   ],
   "source": [
    "data= input('나이는? ')\n",
    "data = int(data)\n",
    "data"
   ]
  },
  {
   "cell_type": "code",
   "execution_count": 63,
   "id": "f9fecb6c-3eb5-47c9-b56a-424e9aae6bca",
   "metadata": {},
   "outputs": [
    {
     "data": {
      "text/plain": [
       "'1.26.4'"
      ]
     },
     "execution_count": 63,
     "metadata": {},
     "output_type": "execute_result"
    }
   ],
   "source": [
    "import numpy as np\n",
    "\n",
    "np.__version__"
   ]
  },
  {
   "cell_type": "code",
   "execution_count": 69,
   "id": "4bc22acc-cbbe-44c0-b7d2-14289f8a4b40",
   "metadata": {},
   "outputs": [
    {
     "data": {
      "text/plain": [
       "'3.8.4'"
      ]
     },
     "execution_count": 69,
     "metadata": {},
     "output_type": "execute_result"
    }
   ],
   "source": [
    "import matplotlib as mpl\n",
    "\n",
    "mpl.__version__"
   ]
  },
  {
   "cell_type": "code",
   "execution_count": 75,
   "id": "a3afe6af-ed4d-402d-b42d-fb337335e614",
   "metadata": {},
   "outputs": [
    {
     "name": "stdout",
     "output_type": "stream",
     "text": [
      "Requirement already satisfied: numpy in c:\\users\\109-1\\anaconda3\\lib\\site-packages (1.26.4)\n",
      "Requirement already satisfied: matplotlib in c:\\users\\109-1\\anaconda3\\lib\\site-packages (3.8.4)\n",
      "Requirement already satisfied: contourpy>=1.0.1 in c:\\users\\109-1\\anaconda3\\lib\\site-packages (from matplotlib) (1.2.0)\n",
      "Requirement already satisfied: cycler>=0.10 in c:\\users\\109-1\\anaconda3\\lib\\site-packages (from matplotlib) (0.11.0)\n",
      "Requirement already satisfied: fonttools>=4.22.0 in c:\\users\\109-1\\anaconda3\\lib\\site-packages (from matplotlib) (4.51.0)\n",
      "Requirement already satisfied: kiwisolver>=1.3.1 in c:\\users\\109-1\\anaconda3\\lib\\site-packages (from matplotlib) (1.4.4)\n",
      "Requirement already satisfied: numpy>=1.21 in c:\\users\\109-1\\anaconda3\\lib\\site-packages (from matplotlib) (1.26.4)\n",
      "Requirement already satisfied: packaging>=20.0 in c:\\users\\109-1\\anaconda3\\lib\\site-packages (from matplotlib) (23.2)\n",
      "Requirement already satisfied: pillow>=8 in c:\\users\\109-1\\anaconda3\\lib\\site-packages (from matplotlib) (10.3.0)\n",
      "Requirement already satisfied: pyparsing>=2.3.1 in c:\\users\\109-1\\anaconda3\\lib\\site-packages (from matplotlib) (3.0.9)\n",
      "Requirement already satisfied: python-dateutil>=2.7 in c:\\users\\109-1\\anaconda3\\lib\\site-packages (from matplotlib) (2.9.0.post0)\n",
      "Requirement already satisfied: six>=1.5 in c:\\users\\109-1\\anaconda3\\lib\\site-packages (from python-dateutil>=2.7->matplotlib) (1.16.0)\n"
     ]
    }
   ],
   "source": [
    "!pip install numpy\n",
    "!pip install matplotlib"
   ]
  },
  {
   "cell_type": "code",
   "execution_count": 77,
   "id": "f7a55dcb-1194-468e-b619-72500f24fe6e",
   "metadata": {},
   "outputs": [],
   "source": [
    "#1.그림을 선명하게\n",
    "%config InlineBackend.figure_format = 'retina'"
   ]
  },
  {
   "cell_type": "code",
   "execution_count": 81,
   "id": "e9fbe629-83f3-430e-9456-08ab1e6a9a93",
   "metadata": {},
   "outputs": [
    {
     "name": "stdout",
     "output_type": "stream",
     "text": [
      "Collecting Koreanize-matplotlib\n",
      "  Downloading koreanize_matplotlib-0.1.1-py3-none-any.whl.metadata (992 bytes)\n",
      "Requirement already satisfied: matplotlib in c:\\users\\109-1\\anaconda3\\lib\\site-packages (from Koreanize-matplotlib) (3.8.4)\n",
      "Requirement already satisfied: contourpy>=1.0.1 in c:\\users\\109-1\\anaconda3\\lib\\site-packages (from matplotlib->Koreanize-matplotlib) (1.2.0)\n",
      "Requirement already satisfied: cycler>=0.10 in c:\\users\\109-1\\anaconda3\\lib\\site-packages (from matplotlib->Koreanize-matplotlib) (0.11.0)\n",
      "Requirement already satisfied: fonttools>=4.22.0 in c:\\users\\109-1\\anaconda3\\lib\\site-packages (from matplotlib->Koreanize-matplotlib) (4.51.0)\n",
      "Requirement already satisfied: kiwisolver>=1.3.1 in c:\\users\\109-1\\anaconda3\\lib\\site-packages (from matplotlib->Koreanize-matplotlib) (1.4.4)\n",
      "Requirement already satisfied: numpy>=1.21 in c:\\users\\109-1\\anaconda3\\lib\\site-packages (from matplotlib->Koreanize-matplotlib) (1.26.4)\n",
      "Requirement already satisfied: packaging>=20.0 in c:\\users\\109-1\\anaconda3\\lib\\site-packages (from matplotlib->Koreanize-matplotlib) (23.2)\n",
      "Requirement already satisfied: pillow>=8 in c:\\users\\109-1\\anaconda3\\lib\\site-packages (from matplotlib->Koreanize-matplotlib) (10.3.0)\n",
      "Requirement already satisfied: pyparsing>=2.3.1 in c:\\users\\109-1\\anaconda3\\lib\\site-packages (from matplotlib->Koreanize-matplotlib) (3.0.9)\n",
      "Requirement already satisfied: python-dateutil>=2.7 in c:\\users\\109-1\\anaconda3\\lib\\site-packages (from matplotlib->Koreanize-matplotlib) (2.9.0.post0)\n",
      "Requirement already satisfied: six>=1.5 in c:\\users\\109-1\\anaconda3\\lib\\site-packages (from python-dateutil>=2.7->matplotlib->Koreanize-matplotlib) (1.16.0)\n",
      "Downloading koreanize_matplotlib-0.1.1-py3-none-any.whl (7.9 MB)\n",
      "   ---------------------------------------- 0.0/7.9 MB ? eta -:--:--\n",
      "   ---------------------------------------- 0.1/7.9 MB 2.6 MB/s eta 0:00:03\n",
      "   --- ------------------------------------ 0.7/7.9 MB 8.3 MB/s eta 0:00:01\n",
      "   ---------- ----------------------------- 2.1/7.9 MB 16.6 MB/s eta 0:00:01\n",
      "   ------------------ --------------------- 3.6/7.9 MB 22.9 MB/s eta 0:00:01\n",
      "   ---------------------------------- ----- 6.8/7.9 MB 33.4 MB/s eta 0:00:01\n",
      "   ---------------------------------------- 7.9/7.9 MB 33.9 MB/s eta 0:00:00\n",
      "Installing collected packages: Koreanize-matplotlib\n",
      "Successfully installed Koreanize-matplotlib-0.1.1\n"
     ]
    }
   ],
   "source": [
    "#2. colab 사용: 한글을 위한 모듈 설치\n",
    "!pip install Koreanize-matplotlib"
   ]
  },
  {
   "cell_type": "code",
   "execution_count": 85,
   "id": "1ca2a1a8-9102-4c4f-9598-305202fe4749",
   "metadata": {},
   "outputs": [],
   "source": [
    "#2. client jupyter notebook 사용: 한글을 위한 실행 코드\n",
    "import matplotlib.pyplot as plt\n",
    "\n",
    "plt.rc('font', family='Malgun Gothic')\n",
    "plt.rc('axes', unicode_minus=False)"
   ]
  },
  {
   "cell_type": "code",
   "execution_count": 87,
   "id": "4568c253-d527-4ad5-8177-eff404a6a69f",
   "metadata": {},
   "outputs": [],
   "source": [
    "#2. client jupyter notebook 사용: 한글을 위한 실행 코드\n",
    "import matplotlib.pyplot as plt\n",
    "\n",
    "plt.rcParams['font.family']='Malgun Gothic'\n",
    "plt.rcParams['axes.unicode_minus'] = False"
   ]
  },
  {
   "cell_type": "code",
   "execution_count": 95,
   "id": "6bf051a0-09db-40f1-b796-4a5b19ffebcd",
   "metadata": {},
   "outputs": [],
   "source": [
    "#3 필요 패키지 import\n",
    "\n",
    "#import koreanize_matplotlib # for cloab\n",
    "import matplotlib.pyplot as plt"
   ]
  },
  {
   "cell_type": "code",
   "execution_count": 97,
   "id": "06f3b4d3-d827-43dc-abad-27b937b1e4dc",
   "metadata": {},
   "outputs": [
    {
     "data": {
      "image/png": "[encoded data removed]",
      "text/plain": [
       "<Figure size 640x480 with 1 Axes>"
      ]
     },
     "metadata": {
      "image/png": {
       "height": 435,
       "width": 540
      }
     },
     "output_type": "display_data"
    }
   ],
   "source": [
    "import matplotlib.pyplot as plt\n",
    "\n",
    "plt.title('데이터 시각화의 한글 준비와 기본 직선 그래프')\n",
    "plt.plot([8, 15, 40, 10])\n",
    "plt.show()"
   ]
  },
  {
   "cell_type": "code",
   "execution_count": 119,
   "id": "99af2558-cd2d-4c30-a379-6f0063329065",
   "metadata": {},
   "outputs": [
    {
     "data": {
      "text/html": [
       "<div>\n",
       "<style scoped>\n",
       "    .dataframe tbody tr th:only-of-type {\n",
       "        vertical-align: middle;\n",
       "    }\n",
       "\n",
       "    .dataframe tbody tr th {\n",
       "        vertical-align: top;\n",
       "    }\n",
       "\n",
       "    .dataframe thead th {\n",
       "        text-align: right;\n",
       "    }\n",
       "</style>\n",
       "<table border=\"1\" class=\"dataframe\">\n",
       "  <thead>\n",
       "    <tr style=\"text-align: right;\">\n",
       "      <th></th>\n",
       "      <th>2024년08월_총인구수</th>\n",
       "      <th>2024년08월_세대수</th>\n",
       "      <th>2024년08월_세대당 인구</th>\n",
       "      <th>2024년08월_남자 인구수</th>\n",
       "      <th>2024년08월_여자 인구수</th>\n",
       "      <th>2024년08월_남여 비율</th>\n",
       "    </tr>\n",
       "    <tr>\n",
       "      <th>행정구역</th>\n",
       "      <th></th>\n",
       "      <th></th>\n",
       "      <th></th>\n",
       "      <th></th>\n",
       "      <th></th>\n",
       "      <th></th>\n",
       "    </tr>\n",
       "  </thead>\n",
       "  <tbody>\n",
       "    <tr>\n",
       "      <th>전국  (1000000000)</th>\n",
       "      <td>51256511</td>\n",
       "      <td>24087679</td>\n",
       "      <td>2.13</td>\n",
       "      <td>25522808</td>\n",
       "      <td>25733703</td>\n",
       "      <td>0.99</td>\n",
       "    </tr>\n",
       "    <tr>\n",
       "      <th>서울특별시  (1100000000)</th>\n",
       "      <td>9355801</td>\n",
       "      <td>4487525</td>\n",
       "      <td>2.08</td>\n",
       "      <td>4518536</td>\n",
       "      <td>4837265</td>\n",
       "      <td>0.93</td>\n",
       "    </tr>\n",
       "    <tr>\n",
       "      <th>부산광역시  (2600000000)</th>\n",
       "      <td>3275593</td>\n",
       "      <td>1570760</td>\n",
       "      <td>2.09</td>\n",
       "      <td>1594978</td>\n",
       "      <td>1680615</td>\n",
       "      <td>0.95</td>\n",
       "    </tr>\n",
       "    <tr>\n",
       "      <th>대구광역시  (2700000000)</th>\n",
       "      <td>2366033</td>\n",
       "      <td>1101929</td>\n",
       "      <td>2.15</td>\n",
       "      <td>1161164</td>\n",
       "      <td>1204869</td>\n",
       "      <td>0.96</td>\n",
       "    </tr>\n",
       "    <tr>\n",
       "      <th>인천광역시  (2800000000)</th>\n",
       "      <td>3014770</td>\n",
       "      <td>1368072</td>\n",
       "      <td>2.20</td>\n",
       "      <td>1506680</td>\n",
       "      <td>1508090</td>\n",
       "      <td>1.00</td>\n",
       "    </tr>\n",
       "    <tr>\n",
       "      <th>광주광역시  (2900000000)</th>\n",
       "      <td>1412063</td>\n",
       "      <td>658010</td>\n",
       "      <td>2.15</td>\n",
       "      <td>697079</td>\n",
       "      <td>714984</td>\n",
       "      <td>0.97</td>\n",
       "    </tr>\n",
       "    <tr>\n",
       "      <th>대전광역시  (3000000000)</th>\n",
       "      <td>1439926</td>\n",
       "      <td>686895</td>\n",
       "      <td>2.10</td>\n",
       "      <td>717878</td>\n",
       "      <td>722048</td>\n",
       "      <td>0.99</td>\n",
       "    </tr>\n",
       "    <tr>\n",
       "      <th>울산광역시  (3100000000)</th>\n",
       "      <td>1099231</td>\n",
       "      <td>494386</td>\n",
       "      <td>2.22</td>\n",
       "      <td>565290</td>\n",
       "      <td>533941</td>\n",
       "      <td>1.06</td>\n",
       "    </tr>\n",
       "    <tr>\n",
       "      <th>세종특별자치시  (3600000000)</th>\n",
       "      <td>389370</td>\n",
       "      <td>162837</td>\n",
       "      <td>2.39</td>\n",
       "      <td>193826</td>\n",
       "      <td>195544</td>\n",
       "      <td>0.99</td>\n",
       "    </tr>\n",
       "    <tr>\n",
       "      <th>경기도  (4100000000)</th>\n",
       "      <td>13675873</td>\n",
       "      <td>6039455</td>\n",
       "      <td>2.26</td>\n",
       "      <td>6875411</td>\n",
       "      <td>6800462</td>\n",
       "      <td>1.01</td>\n",
       "    </tr>\n",
       "    <tr>\n",
       "      <th>강원특별자치도  (5100000000)</th>\n",
       "      <td>1521066</td>\n",
       "      <td>764793</td>\n",
       "      <td>1.99</td>\n",
       "      <td>764911</td>\n",
       "      <td>756155</td>\n",
       "      <td>1.01</td>\n",
       "    </tr>\n",
       "    <tr>\n",
       "      <th>충청북도  (4300000000)</th>\n",
       "      <td>1590716</td>\n",
       "      <td>785621</td>\n",
       "      <td>2.02</td>\n",
       "      <td>809546</td>\n",
       "      <td>781170</td>\n",
       "      <td>1.04</td>\n",
       "    </tr>\n",
       "    <tr>\n",
       "      <th>충청남도  (4400000000)</th>\n",
       "      <td>2135281</td>\n",
       "      <td>1048985</td>\n",
       "      <td>2.04</td>\n",
       "      <td>1095246</td>\n",
       "      <td>1040035</td>\n",
       "      <td>1.05</td>\n",
       "    </tr>\n",
       "    <tr>\n",
       "      <th>전북특별자치도  (5200000000)</th>\n",
       "      <td>1743183</td>\n",
       "      <td>864007</td>\n",
       "      <td>2.02</td>\n",
       "      <td>867993</td>\n",
       "      <td>875190</td>\n",
       "      <td>0.99</td>\n",
       "    </tr>\n",
       "    <tr>\n",
       "      <th>전라남도  (4600000000)</th>\n",
       "      <td>1792390</td>\n",
       "      <td>912733</td>\n",
       "      <td>1.96</td>\n",
       "      <td>904171</td>\n",
       "      <td>888219</td>\n",
       "      <td>1.02</td>\n",
       "    </tr>\n",
       "    <tr>\n",
       "      <th>경상북도  (4700000000)</th>\n",
       "      <td>2540046</td>\n",
       "      <td>1291675</td>\n",
       "      <td>1.97</td>\n",
       "      <td>1284828</td>\n",
       "      <td>1255218</td>\n",
       "      <td>1.02</td>\n",
       "    </tr>\n",
       "    <tr>\n",
       "      <th>경상남도  (4800000000)</th>\n",
       "      <td>3233629</td>\n",
       "      <td>1535333</td>\n",
       "      <td>2.11</td>\n",
       "      <td>1629223</td>\n",
       "      <td>1604406</td>\n",
       "      <td>1.02</td>\n",
       "    </tr>\n",
       "    <tr>\n",
       "      <th>제주특별자치도  (5000000000)</th>\n",
       "      <td>671540</td>\n",
       "      <td>314663</td>\n",
       "      <td>2.13</td>\n",
       "      <td>336048</td>\n",
       "      <td>335492</td>\n",
       "      <td>1.00</td>\n",
       "    </tr>\n",
       "  </tbody>\n",
       "</table>\n",
       "</div>"
      ],
      "text/plain": [
       "                       2024년08월_총인구수  2024년08월_세대수  2024년08월_세대당 인구  \\\n",
       "행정구역                                                                  \n",
       "전국  (1000000000)            51256511      24087679             2.13   \n",
       "서울특별시  (1100000000)          9355801       4487525             2.08   \n",
       "부산광역시  (2600000000)          3275593       1570760             2.09   \n",
       "대구광역시  (2700000000)          2366033       1101929             2.15   \n",
       "인천광역시  (2800000000)          3014770       1368072             2.20   \n",
       "광주광역시  (2900000000)          1412063        658010             2.15   \n",
       "대전광역시  (3000000000)          1439926        686895             2.10   \n",
       "울산광역시  (3100000000)          1099231        494386             2.22   \n",
       "세종특별자치시  (3600000000)         389370        162837             2.39   \n",
       "경기도  (4100000000)           13675873       6039455             2.26   \n",
       "강원특별자치도  (5100000000)        1521066        764793             1.99   \n",
       "충청북도  (4300000000)           1590716        785621             2.02   \n",
       "충청남도  (4400000000)           2135281       1048985             2.04   \n",
       "전북특별자치도  (5200000000)        1743183        864007             2.02   \n",
       "전라남도  (4600000000)           1792390        912733             1.96   \n",
       "경상북도  (4700000000)           2540046       1291675             1.97   \n",
       "경상남도  (4800000000)           3233629       1535333             2.11   \n",
       "제주특별자치도  (5000000000)         671540        314663             2.13   \n",
       "\n",
       "                       2024년08월_남자 인구수  2024년08월_여자 인구수  2024년08월_남여 비율  \n",
       "행정구역                                                                     \n",
       "전국  (1000000000)              25522808         25733703            0.99  \n",
       "서울특별시  (1100000000)            4518536          4837265            0.93  \n",
       "부산광역시  (2600000000)            1594978          1680615            0.95  \n",
       "대구광역시  (2700000000)            1161164          1204869            0.96  \n",
       "인천광역시  (2800000000)            1506680          1508090            1.00  \n",
       "광주광역시  (2900000000)             697079           714984            0.97  \n",
       "대전광역시  (3000000000)             717878           722048            0.99  \n",
       "울산광역시  (3100000000)             565290           533941            1.06  \n",
       "세종특별자치시  (3600000000)           193826           195544            0.99  \n",
       "경기도  (4100000000)              6875411          6800462            1.01  \n",
       "강원특별자치도  (5100000000)           764911           756155            1.01  \n",
       "충청북도  (4300000000)              809546           781170            1.04  \n",
       "충청남도  (4400000000)             1095246          1040035            1.05  \n",
       "전북특별자치도  (5200000000)           867993           875190            0.99  \n",
       "전라남도  (4600000000)              904171           888219            1.02  \n",
       "경상북도  (4700000000)             1284828          1255218            1.02  \n",
       "경상남도  (4800000000)             1629223          1604406            1.02  \n",
       "제주특별자치도  (5000000000)           336048           335492            1.00  "
      ]
     },
     "execution_count": 119,
     "metadata": {},
     "output_type": "execute_result"
    }
   ],
   "source": [
    "import pandas as pd\n",
    "\n",
    "pop = pd.read_csv(\"202408_202408_주민등록인구및세대현황_월간.csv\", encoding='cp949', index_col=0, thousands=',')\n",
    "pop"
   ]
  },
  {
   "cell_type": "code",
   "execution_count": 141,
   "id": "a2a9381f-619b-4491-8f61-ab6bb84bf476",
   "metadata": {},
   "outputs": [
    {
     "data": {
      "text/html": [
       "<div>\n",
       "<style scoped>\n",
       "    .dataframe tbody tr th:only-of-type {\n",
       "        vertical-align: middle;\n",
       "    }\n",
       "\n",
       "    .dataframe tbody tr th {\n",
       "        vertical-align: top;\n",
       "    }\n",
       "\n",
       "    .dataframe thead th {\n",
       "        text-align: right;\n",
       "    }\n",
       "</style>\n",
       "<table border=\"1\" class=\"dataframe\">\n",
       "  <thead>\n",
       "    <tr style=\"text-align: right;\">\n",
       "      <th></th>\n",
       "      <th>총인구수</th>\n",
       "      <th>세대수</th>\n",
       "      <th>세대당인구</th>\n",
       "      <th>남자인구수</th>\n",
       "      <th>여자인구수</th>\n",
       "      <th>남여비율</th>\n",
       "    </tr>\n",
       "  </thead>\n",
       "  <tbody>\n",
       "    <tr>\n",
       "      <th>전국</th>\n",
       "      <td>51256511</td>\n",
       "      <td>24087679</td>\n",
       "      <td>2.13</td>\n",
       "      <td>25522808</td>\n",
       "      <td>25733703</td>\n",
       "      <td>0.99</td>\n",
       "    </tr>\n",
       "    <tr>\n",
       "      <th>서울특별시</th>\n",
       "      <td>9355801</td>\n",
       "      <td>4487525</td>\n",
       "      <td>2.08</td>\n",
       "      <td>4518536</td>\n",
       "      <td>4837265</td>\n",
       "      <td>0.93</td>\n",
       "    </tr>\n",
       "    <tr>\n",
       "      <th>부산광역시</th>\n",
       "      <td>3275593</td>\n",
       "      <td>1570760</td>\n",
       "      <td>2.09</td>\n",
       "      <td>1594978</td>\n",
       "      <td>1680615</td>\n",
       "      <td>0.95</td>\n",
       "    </tr>\n",
       "    <tr>\n",
       "      <th>대구광역시</th>\n",
       "      <td>2366033</td>\n",
       "      <td>1101929</td>\n",
       "      <td>2.15</td>\n",
       "      <td>1161164</td>\n",
       "      <td>1204869</td>\n",
       "      <td>0.96</td>\n",
       "    </tr>\n",
       "    <tr>\n",
       "      <th>인천광역시</th>\n",
       "      <td>3014770</td>\n",
       "      <td>1368072</td>\n",
       "      <td>2.20</td>\n",
       "      <td>1506680</td>\n",
       "      <td>1508090</td>\n",
       "      <td>1.00</td>\n",
       "    </tr>\n",
       "  </tbody>\n",
       "</table>\n",
       "</div>"
      ],
      "text/plain": [
       "           총인구수       세대수  세대당인구     남자인구수     여자인구수  남여비율\n",
       "전국     51256511  24087679   2.13  25522808  25733703  0.99\n",
       "서울특별시   9355801   4487525   2.08   4518536   4837265  0.93\n",
       "부산광역시   3275593   1570760   2.09   1594978   1680615  0.95\n",
       "대구광역시   2366033   1101929   2.15   1161164   1204869  0.96\n",
       "인천광역시   3014770   1368072   2.20   1506680   1508090  1.00"
      ]
     },
     "execution_count": 141,
     "metadata": {},
     "output_type": "execute_result"
    }
   ],
   "source": [
    "pop.columns = ['총인구수','세대수', '세대당인구', '남자인구수','여자인구수','남여비율']\n",
    "pop.head()"
   ]
  },
  {
   "cell_type": "code",
   "execution_count": 143,
   "id": "41306bf3-0519-44df-8b96-797cc9c2538b",
   "metadata": {},
   "outputs": [
    {
     "data": {
      "text/html": [
       "<div>\n",
       "<style scoped>\n",
       "    .dataframe tbody tr th:only-of-type {\n",
       "        vertical-align: middle;\n",
       "    }\n",
       "\n",
       "    .dataframe tbody tr th {\n",
       "        vertical-align: top;\n",
       "    }\n",
       "\n",
       "    .dataframe thead th {\n",
       "        text-align: right;\n",
       "    }\n",
       "</style>\n",
       "<table border=\"1\" class=\"dataframe\">\n",
       "  <thead>\n",
       "    <tr style=\"text-align: right;\">\n",
       "      <th></th>\n",
       "      <th>총인구수</th>\n",
       "      <th>세대수</th>\n",
       "      <th>세대당인구</th>\n",
       "      <th>남자인구수</th>\n",
       "      <th>여자인구수</th>\n",
       "      <th>남여비율</th>\n",
       "    </tr>\n",
       "  </thead>\n",
       "  <tbody>\n",
       "    <tr>\n",
       "      <th>전국</th>\n",
       "      <td>51256511</td>\n",
       "      <td>24087679</td>\n",
       "      <td>2.13</td>\n",
       "      <td>25522808</td>\n",
       "      <td>25733703</td>\n",
       "      <td>0.99</td>\n",
       "    </tr>\n",
       "    <tr>\n",
       "      <th>서울특별시</th>\n",
       "      <td>9355801</td>\n",
       "      <td>4487525</td>\n",
       "      <td>2.08</td>\n",
       "      <td>4518536</td>\n",
       "      <td>4837265</td>\n",
       "      <td>0.93</td>\n",
       "    </tr>\n",
       "    <tr>\n",
       "      <th>부산광역시</th>\n",
       "      <td>3275593</td>\n",
       "      <td>1570760</td>\n",
       "      <td>2.09</td>\n",
       "      <td>1594978</td>\n",
       "      <td>1680615</td>\n",
       "      <td>0.95</td>\n",
       "    </tr>\n",
       "    <tr>\n",
       "      <th>대구광역시</th>\n",
       "      <td>2366033</td>\n",
       "      <td>1101929</td>\n",
       "      <td>2.15</td>\n",
       "      <td>1161164</td>\n",
       "      <td>1204869</td>\n",
       "      <td>0.96</td>\n",
       "    </tr>\n",
       "    <tr>\n",
       "      <th>인천광역시</th>\n",
       "      <td>3014770</td>\n",
       "      <td>1368072</td>\n",
       "      <td>2.20</td>\n",
       "      <td>1506680</td>\n",
       "      <td>1508090</td>\n",
       "      <td>1.00</td>\n",
       "    </tr>\n",
       "    <tr>\n",
       "      <th>광주광역시</th>\n",
       "      <td>1412063</td>\n",
       "      <td>658010</td>\n",
       "      <td>2.15</td>\n",
       "      <td>697079</td>\n",
       "      <td>714984</td>\n",
       "      <td>0.97</td>\n",
       "    </tr>\n",
       "    <tr>\n",
       "      <th>대전광역시</th>\n",
       "      <td>1439926</td>\n",
       "      <td>686895</td>\n",
       "      <td>2.10</td>\n",
       "      <td>717878</td>\n",
       "      <td>722048</td>\n",
       "      <td>0.99</td>\n",
       "    </tr>\n",
       "    <tr>\n",
       "      <th>울산광역시</th>\n",
       "      <td>1099231</td>\n",
       "      <td>494386</td>\n",
       "      <td>2.22</td>\n",
       "      <td>565290</td>\n",
       "      <td>533941</td>\n",
       "      <td>1.06</td>\n",
       "    </tr>\n",
       "    <tr>\n",
       "      <th>세종특별자치시</th>\n",
       "      <td>389370</td>\n",
       "      <td>162837</td>\n",
       "      <td>2.39</td>\n",
       "      <td>193826</td>\n",
       "      <td>195544</td>\n",
       "      <td>0.99</td>\n",
       "    </tr>\n",
       "    <tr>\n",
       "      <th>경기도</th>\n",
       "      <td>13675873</td>\n",
       "      <td>6039455</td>\n",
       "      <td>2.26</td>\n",
       "      <td>6875411</td>\n",
       "      <td>6800462</td>\n",
       "      <td>1.01</td>\n",
       "    </tr>\n",
       "    <tr>\n",
       "      <th>강원특별자치도</th>\n",
       "      <td>1521066</td>\n",
       "      <td>764793</td>\n",
       "      <td>1.99</td>\n",
       "      <td>764911</td>\n",
       "      <td>756155</td>\n",
       "      <td>1.01</td>\n",
       "    </tr>\n",
       "    <tr>\n",
       "      <th>충청북도</th>\n",
       "      <td>1590716</td>\n",
       "      <td>785621</td>\n",
       "      <td>2.02</td>\n",
       "      <td>809546</td>\n",
       "      <td>781170</td>\n",
       "      <td>1.04</td>\n",
       "    </tr>\n",
       "    <tr>\n",
       "      <th>충청남도</th>\n",
       "      <td>2135281</td>\n",
       "      <td>1048985</td>\n",
       "      <td>2.04</td>\n",
       "      <td>1095246</td>\n",
       "      <td>1040035</td>\n",
       "      <td>1.05</td>\n",
       "    </tr>\n",
       "    <tr>\n",
       "      <th>전북특별자치도</th>\n",
       "      <td>1743183</td>\n",
       "      <td>864007</td>\n",
       "      <td>2.02</td>\n",
       "      <td>867993</td>\n",
       "      <td>875190</td>\n",
       "      <td>0.99</td>\n",
       "    </tr>\n",
       "    <tr>\n",
       "      <th>전라남도</th>\n",
       "      <td>1792390</td>\n",
       "      <td>912733</td>\n",
       "      <td>1.96</td>\n",
       "      <td>904171</td>\n",
       "      <td>888219</td>\n",
       "      <td>1.02</td>\n",
       "    </tr>\n",
       "    <tr>\n",
       "      <th>경상북도</th>\n",
       "      <td>2540046</td>\n",
       "      <td>1291675</td>\n",
       "      <td>1.97</td>\n",
       "      <td>1284828</td>\n",
       "      <td>1255218</td>\n",
       "      <td>1.02</td>\n",
       "    </tr>\n",
       "    <tr>\n",
       "      <th>경상남도</th>\n",
       "      <td>3233629</td>\n",
       "      <td>1535333</td>\n",
       "      <td>2.11</td>\n",
       "      <td>1629223</td>\n",
       "      <td>1604406</td>\n",
       "      <td>1.02</td>\n",
       "    </tr>\n",
       "    <tr>\n",
       "      <th>제주특별자치도</th>\n",
       "      <td>671540</td>\n",
       "      <td>314663</td>\n",
       "      <td>2.13</td>\n",
       "      <td>336048</td>\n",
       "      <td>335492</td>\n",
       "      <td>1.00</td>\n",
       "    </tr>\n",
       "  </tbody>\n",
       "</table>\n",
       "</div>"
      ],
      "text/plain": [
       "             총인구수       세대수  세대당인구     남자인구수     여자인구수  남여비율\n",
       "전국       51256511  24087679   2.13  25522808  25733703  0.99\n",
       "서울특별시     9355801   4487525   2.08   4518536   4837265  0.93\n",
       "부산광역시     3275593   1570760   2.09   1594978   1680615  0.95\n",
       "대구광역시     2366033   1101929   2.15   1161164   1204869  0.96\n",
       "인천광역시     3014770   1368072   2.20   1506680   1508090  1.00\n",
       "광주광역시     1412063    658010   2.15    697079    714984  0.97\n",
       "대전광역시     1439926    686895   2.10    717878    722048  0.99\n",
       "울산광역시     1099231    494386   2.22    565290    533941  1.06\n",
       "세종특별자치시    389370    162837   2.39    193826    195544  0.99\n",
       "경기도      13675873   6039455   2.26   6875411   6800462  1.01\n",
       "강원특별자치도   1521066    764793   1.99    764911    756155  1.01\n",
       "충청북도      1590716    785621   2.02    809546    781170  1.04\n",
       "충청남도      2135281   1048985   2.04   1095246   1040035  1.05\n",
       "전북특별자치도   1743183    864007   2.02    867993    875190  0.99\n",
       "전라남도      1792390    912733   1.96    904171    888219  1.02\n",
       "경상북도      2540046   1291675   1.97   1284828   1255218  1.02\n",
       "경상남도      3233629   1535333   2.11   1629223   1604406  1.02\n",
       "제주특별자치도    671540    314663   2.13    336048    335492  1.00"
      ]
     },
     "execution_count": 143,
     "metadata": {},
     "output_type": "execute_result"
    }
   ],
   "source": [
    "pop.index =[pop.index[i].split()[0] for i in range(len(pop))]\n",
    "pop"
   ]
  },
  {
   "cell_type": "code",
   "execution_count": 147,
   "id": "ff7343af-75bd-4f66-bc61-1cef21cc60ed",
   "metadata": {},
   "outputs": [
    {
     "data": {
      "image/png": "[encoded data removed]",
      "text/plain": [
       "<Figure size 640x480 with 1 Axes>"
      ]
     },
     "metadata": {
      "image/png": {
       "height": 511,
       "width": 553
      }
     },
     "output_type": "display_data"
    }
   ],
   "source": [
    "import matplotlib.pyplot as plt\n",
    "import seaborn as sns\n",
    "\n",
    "sns.scatterplot(pop['총인구수'])\n",
    "plt.xticks(rotation=90)\n",
    "plt.show()"
   ]
  },
  {
   "cell_type": "code",
   "execution_count": 151,
   "id": "b0b41c21-6ec8-4ab4-9f43-00004ede5309",
   "metadata": {},
   "outputs": [
    {
     "data": {
      "image/png": "[encoded data removed]",
      "text/plain": [
       "<Figure size 640x480 with 1 Axes>"
      ]
     },
     "metadata": {
      "image/png": {
       "height": 531,
       "width": 553
      }
     },
     "output_type": "display_data"
    }
   ],
   "source": [
    "import matplotlib.pyplot as plt\n",
    "import seaborn as sns\n",
    "\n",
    "pop1 = pop.sort_values('총인구수')\n",
    "sns.barplot(x=pop1.index, y='총인구수', data=pop1)\n",
    "plt.xticks(rotation=90)\n",
    "plt.show()"
   ]
  },
  {
   "cell_type": "code",
   "execution_count": null,
   "id": "0fcabc1d-d1ab-4c3d-80a3-724f1ffabf53",
   "metadata": {},
   "outputs": [],
   "source": []
  }
 ],
 "metadata": {
  "kernelspec": {
   "display_name": "Python 3 (ipykernel)",
   "language": "python",
   "name": "python3"
  },
  "language_info": {
   "codemirror_mode": {
    "name": "ipython",
    "version": 3
   },
   "file_extension": ".py",
   "mimetype": "text/x-python",
   "name": "python",
   "nbconvert_exporter": "python",
   "pygments_lexer": "ipython3",
   "version": "3.12.4"
  }
 },
 "nbformat": 4,
 "nbformat_minor": 5
}
